{
 "cells": [
  {
   "cell_type": "code",
   "execution_count": 1,
   "id": "25df18a7",
   "metadata": {},
   "outputs": [],
   "source": [
    "import pandas as pd\n",
    "import numpy as np\n",
    "import random\n",
    "\n",
    "# Load the dataset\n",
    "products = pd.read_csv('products_dataset.csv')\n",
    "\n",
    "# Simulate users\n",
    "num_users = 500\n",
    "user_ids = [f'U{i:03d}' for i in range(1, num_users + 1)]\n",
    "\n",
    "# Create random user-product purchase interactions\n",
    "interactions = []\n",
    "for user in user_ids:\n",
    "    purchased_products = random.sample(list(products['Product ID']), k=random.randint(5, 20))\n",
    "    for product in purchased_products:\n",
    "        interactions.append((user, product, 1))  # 1 means purchased\n",
    "\n",
    "# Convert to DataFrame\n",
    "interactions_df = pd.DataFrame(interactions, columns=['UserID', 'ProductID', 'Purchased'])\n"
   ]
  },
  {
   "cell_type": "code",
   "execution_count": 2,
   "id": "59787ac4",
   "metadata": {},
   "outputs": [],
   "source": [
    "# Pivot to create user-item matrix\n",
    "user_item_matrix = interactions_df.pivot_table(index='UserID', columns='ProductID', values='Purchased', fill_value=0)"
   ]
  },
  {
   "cell_type": "code",
   "execution_count": 3,
   "id": "b80d73cf",
   "metadata": {},
   "outputs": [],
   "source": [
    "from sklearn.metrics.pairwise import cosine_similarity\n",
    "\n",
    "# Compute item-item similarity matrix\n",
    "item_similarity = cosine_similarity(user_item_matrix.T)\n",
    "item_similarity_df = pd.DataFrame(item_similarity, index=user_item_matrix.columns, columns=user_item_matrix.columns)\n"
   ]
  },
  {
   "cell_type": "code",
   "execution_count": 4,
   "id": "60b2c1a7",
   "metadata": {},
   "outputs": [
    {
     "data": {
      "text/html": [
       "<div>\n",
       "<style scoped>\n",
       "    .dataframe tbody tr th:only-of-type {\n",
       "        vertical-align: middle;\n",
       "    }\n",
       "\n",
       "    .dataframe tbody tr th {\n",
       "        vertical-align: top;\n",
       "    }\n",
       "\n",
       "    .dataframe thead th {\n",
       "        text-align: right;\n",
       "    }\n",
       "</style>\n",
       "<table border=\"1\" class=\"dataframe\">\n",
       "  <thead>\n",
       "    <tr style=\"text-align: right;\">\n",
       "      <th></th>\n",
       "      <th>Product ID</th>\n",
       "      <th>Category</th>\n",
       "      <th>Rating</th>\n",
       "    </tr>\n",
       "  </thead>\n",
       "  <tbody>\n",
       "    <tr>\n",
       "      <th>52</th>\n",
       "      <td>P0053</td>\n",
       "      <td>Shoes</td>\n",
       "      <td>4.2</td>\n",
       "    </tr>\n",
       "    <tr>\n",
       "      <th>156</th>\n",
       "      <td>P0157</td>\n",
       "      <td>Shoes</td>\n",
       "      <td>3.3</td>\n",
       "    </tr>\n",
       "    <tr>\n",
       "      <th>406</th>\n",
       "      <td>P0407</td>\n",
       "      <td>Shoes</td>\n",
       "      <td>1.5</td>\n",
       "    </tr>\n",
       "    <tr>\n",
       "      <th>668</th>\n",
       "      <td>P0669</td>\n",
       "      <td>Shoes</td>\n",
       "      <td>4.5</td>\n",
       "    </tr>\n",
       "    <tr>\n",
       "      <th>861</th>\n",
       "      <td>P0862</td>\n",
       "      <td>Shoes</td>\n",
       "      <td>4.5</td>\n",
       "    </tr>\n",
       "  </tbody>\n",
       "</table>\n",
       "</div>"
      ],
      "text/plain": [
       "    Product ID Category  Rating\n",
       "52       P0053    Shoes     4.2\n",
       "156      P0157    Shoes     3.3\n",
       "406      P0407    Shoes     1.5\n",
       "668      P0669    Shoes     4.5\n",
       "861      P0862    Shoes     4.5"
      ]
     },
     "execution_count": 4,
     "metadata": {},
     "output_type": "execute_result"
    }
   ],
   "source": [
    "def recommend_products_by_category(category, top_n=5):\n",
    "    # Filter products by category\n",
    "    category_products = products[products['Category'] == category]['Product ID'].tolist()\n",
    "    \n",
    "    # Select the top N products based on overall popularity\n",
    "    product_popularity = interactions_df[interactions_df['ProductID'].isin(category_products)]\\\n",
    "                         .groupby('ProductID').size().sort_values(ascending=False)\n",
    "    \n",
    "    top_products = product_popularity.head(top_n).index.tolist()\n",
    "    \n",
    "    # Get product details\n",
    "    recommended = products[products['Product ID'].isin(top_products)]\n",
    "    \n",
    "    return recommended[['Product ID', 'Category', 'Rating']]\n",
    "\n",
    "# Example: Recommend top 5 Shoes\n",
    "recommend_products_by_category('Shoes', 5)\n"
   ]
  }
 ],
 "metadata": {
  "kernelspec": {
   "display_name": "base",
   "language": "python",
   "name": "python3"
  },
  "language_info": {
   "codemirror_mode": {
    "name": "ipython",
    "version": 3
   },
   "file_extension": ".py",
   "mimetype": "text/x-python",
   "name": "python",
   "nbconvert_exporter": "python",
   "pygments_lexer": "ipython3",
   "version": "3.12.4"
  }
 },
 "nbformat": 4,
 "nbformat_minor": 5
}
